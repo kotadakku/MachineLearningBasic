{
 "cells": [
  {
   "cell_type": "markdown",
   "metadata": {},
   "source": [
    "Khai báo thư viện"
   ]
  },
  {
   "cell_type": "code",
   "execution_count": 16,
   "metadata": {},
   "outputs": [],
   "source": [
    "import numpy as np\n",
    "import pandas as pd\n",
    "import matplotlib.pyplot as plt\n",
    "from sklearn.linear_model import LinearRegression"
   ]
  },
  {
   "cell_type": "markdown",
   "metadata": {},
   "source": [
    "## Hồi quy đơn "
   ]
  },
  {
   "cell_type": "code",
   "execution_count": 17,
   "metadata": {},
   "outputs": [],
   "source": [
    "X=np.array([[147,150,153,155,158,160,163,165,168,170,173,175,178,180,183]]).T\n",
    "y=np.array([49,50,51,53,54,56,58,59,60,71,63,64,66,67,70])"
   ]
  },
  {
   "cell_type": "markdown",
   "metadata": {},
   "source": [
    "Xây dựng model"
   ]
  },
  {
   "cell_type": "code",
   "execution_count": 14,
   "metadata": {},
   "outputs": [
    {
     "name": "stdout",
     "output_type": "stream",
     "text": [
      "w1=0.6022167487684729, w0= -40.08620689655171\n",
      "Phuong trinh hoi quy: y = x* 0.6022167487684729+ -40.08620689655171\n"
     ]
    }
   ],
   "source": [
    "model = LinearRegression()\n",
    "model.fit(X,y)\n",
    "print(\"w1=%s, w0= %s\"%(model.coef_ [0],model.intercept_))\n",
    "print(\"Phuong trinh hoi quy: y = x* %s+ %s\"%(model.coef_ [0],model.intercept_))"
   ]
  },
  {
   "cell_type": "markdown",
   "metadata": {},
   "source": [
    "Dự đoán"
   ]
  },
  {
   "cell_type": "code",
   "execution_count": 20,
   "metadata": {},
   "outputs": [
    {
     "name": "stdout",
     "output_type": "stream",
     "text": [
      "Du doan can nang cua nguoi co chieu cao 159 cm la: 55.66625615763548 kg\n"
     ]
    }
   ],
   "source": [
    "y_predict = model.predict([[159]])\n",
    "print(\"Du doan can nang cua nguoi co chieu cao 159 cm la: %s kg\"%y_predict[0])"
   ]
  },
  {
   "cell_type": "markdown",
   "metadata": {},
   "source": [
    "Trực quan hóa dữ liệu"
   ]
  },
  {
   "cell_type": "code",
   "execution_count": 22,
   "metadata": {},
   "outputs": [
    {
     "data": {
      "image/png": "[encoded data removed]",
      "text/plain": [
       "<Figure size 432x288 with 1 Axes>"
      ]
     },
     "metadata": {
      "needs_background": "light"
     },
     "output_type": "display_data"
    }
   ],
   "source": [
    "x0 = np.linspace(145, 185, 2)\n",
    "w0 = model.intercept_\n",
    "w1 = model.coef_ [0]\n",
    "y0 = x0*w1 + w0\n",
    "\n",
    "plt.plot(X,y, \"bo\")\n",
    "plt.plot(x0,y0,\"-r\")\n",
    "plt.ylabel(\"Can nang(kg)\")\n",
    "plt.xlabel(\"Chieu cao(cm)\")\n",
    "plt.show()\n"
   ]
  },
  {
   "cell_type": "markdown",
   "metadata": {},
   "source": [
    "Đọc tệp dữ liệu (csv)"
   ]
  },
  {
   "cell_type": "code",
   "execution_count": 24,
   "metadata": {},
   "outputs": [],
   "source": [
    "data = pd.read_csv(\"./Data/winequality-red.csv\")"
   ]
  },
  {
   "cell_type": "markdown",
   "metadata": {},
   "source": [
    "Trích dữ liệu"
   ]
  },
  {
   "cell_type": "code",
   "execution_count": 32,
   "metadata": {},
   "outputs": [],
   "source": [
    "X= data.loc[:,[\"density\"]].values\n",
    "y = data.alcohol.values"
   ]
  },
  {
   "cell_type": "markdown",
   "metadata": {},
   "source": [
    "Xây dựng mô hình hồi quy"
   ]
  },
  {
   "cell_type": "code",
   "execution_count": 33,
   "metadata": {},
   "outputs": [
    {
     "data": {
      "text/plain": [
       "LinearRegression()"
      ]
     },
     "execution_count": 33,
     "metadata": {},
     "output_type": "execute_result"
    }
   ],
   "source": [
    "model = LinearRegression()\n",
    "model.fit(X,y)"
   ]
  },
  {
   "cell_type": "code",
   "execution_count": 37,
   "metadata": {},
   "outputs": [
    {
     "name": "stdout",
     "output_type": "stream",
     "text": [
      "w1=-280.16382306826216, w0= 289.67534338256456\n",
      "Phuong trinh hoi quy: y = x* -280.16382306826216+ 289.67534338256456\n"
     ]
    }
   ],
   "source": [
    "print(\"w1=%s, w0= %s\"%(model.coef_ [0],model.intercept_))\n",
    "print(\"Phuong trinh hoi quy: y = x* %s+ %s\"%(model.coef_ [0],model.intercept_))"
   ]
  },
  {
   "cell_type": "markdown",
   "metadata": {},
   "source": [
    "Trực quan hóa dữ liệu"
   ]
  },
  {
   "cell_type": "code",
   "execution_count": 39,
   "metadata": {},
   "outputs": [
    {
     "data": {
      "image/png": "[encoded data removed]",
      "text/plain": [
       "<Figure size 432x288 with 1 Axes>"
      ]
     },
     "metadata": {
      "needs_background": "light"
     },
     "output_type": "display_data"
    }
   ],
   "source": [
    "x0 = np.linspace(0.99, 1.004, 10)\n",
    "w0 = model.intercept_\n",
    "w1 = model.coef_ [0]\n",
    "y0 = x0*w1 + w0\n",
    "plt.plot(X,y, \"bo\")\n",
    "plt.plot(x0,y0,\"-r\")\n",
    "plt.ylabel(\"alcohol\")\n",
    "plt.xlabel(\"density\")\n",
    "plt.show()"
   ]
  },
  {
   "cell_type": "markdown",
   "metadata": {},
   "source": [
    "## Hồi quy đa biến"
   ]
  },
  {
   "cell_type": "code",
   "execution_count": 40,
   "metadata": {},
   "outputs": [],
   "source": [
    "X= data.loc[:,[\"fixed acidity\",\n",
    "\"volatile acidity\",\n",
    "\"citric acid\",\n",
    "\"residual sugar\",\n",
    "\"chlorides\",\n",
    "\"free sulfur dioxide\",\n",
    "\"total sulfur dioxide\",\n",
    "\"density\",\n",
    "\"pH\",\n",
    "\"sulphates\",\n",
    "\"alcohol\"]].values\n",
    "y=data.quality.values"
   ]
  },
  {
   "cell_type": "code",
   "execution_count": 41,
   "metadata": {},
   "outputs": [
    {
     "data": {
      "text/plain": [
       "LinearRegression()"
      ]
     },
     "execution_count": 41,
     "metadata": {},
     "output_type": "execute_result"
    }
   ],
   "source": [
    "model = LinearRegression()\n",
    "model.fit(X,y)"
   ]
  },
  {
   "cell_type": "code",
   "execution_count": 42,
   "metadata": {},
   "outputs": [
    {
     "name": "stdout",
     "output_type": "stream",
     "text": [
      "w0= 21.965208449451552\n",
      "w*=[ 2.49905527e-02 -1.08359026e+00 -1.82563948e-01  1.63312698e-02\n",
      " -1.87422516e+00  4.36133331e-03 -3.26457970e-03 -1.78811638e+01\n",
      " -4.13653144e-01  9.16334413e-01  2.76197699e-01]\n",
      "w1= 0.02499055267167669\n",
      "w2= -1.0835902586934345\n",
      "w3= -0.18256394841071413\n",
      "w4= 0.016331269765476317\n",
      "w5= -1.8742251580992078\n",
      "w6= 0.0043613333090966044\n",
      "w7= -0.003264579703068149\n",
      "w8= -17.881163832499045\n",
      "w9= -0.41365314382174523\n",
      "w10= 0.9163344127211362\n",
      "w11= 0.2761976992268849\n"
     ]
    }
   ],
   "source": [
    "print(\"w0= %s\"%(model.intercept_))\n",
    "print(\"w*=%s\"%model.coef_)\n",
    "for i in range(model.coef_.shape[0]):\n",
    "  print(\"w%s= %s\"%(i+1, model.coef_ [i]))"
   ]
  }
 ],
 "metadata": {
  "kernelspec": {
   "display_name": "Python 3",
   "language": "python",
   "name": "python3"
  },
  "language_info": {
   "codemirror_mode": {
    "name": "ipython",
    "version": 3
   },
   "file_extension": ".py",
   "mimetype": "text/x-python",
   "name": "python",
   "nbconvert_exporter": "python",
   "pygments_lexer": "ipython3",
   "version": "3.8.5"
  }
 },
 "nbformat": 4,
 "nbformat_minor": 4
}
