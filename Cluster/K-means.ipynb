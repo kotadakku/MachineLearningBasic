{
 "cells": [
  {
   "cell_type": "code",
   "execution_count": 1,
   "metadata": {},
   "outputs": [],
   "source": [
    "import numpy as np\n",
    "import matplotlib.pyplot as plt\n",
    "from sklearn.cluster import KMeans"
   ]
  },
  {
   "cell_type": "code",
   "execution_count": 2,
   "metadata": {},
   "outputs": [],
   "source": [
    "X = np.array([[1,1],[3,2],[4,2],[5,4]])\n",
    "kmeans = KMeans(n_clusters=2, random_state=0).fit(X)"
   ]
  },
  {
   "cell_type": "code",
   "execution_count": 3,
   "metadata": {},
   "outputs": [
    {
     "name": "stdout",
     "output_type": "stream",
     "text": [
      "Tam của nhom 1  là:[1. 1.]\n",
      "Tam của nhom 2  là:[4.         2.66666667]\n"
     ]
    }
   ],
   "source": [
    "print(\"Tam của nhom 1  là:%s\"%kmeans.cluster_centers_[0])\n",
    "print(\"Tam của nhom 2  là:%s\"%kmeans.cluster_centers_[1])"
   ]
  },
  {
   "cell_type": "code",
   "execution_count": 4,
   "metadata": {},
   "outputs": [
    {
     "name": "stdout",
     "output_type": "stream",
     "text": [
      "Ket qua du doan: [0 1 1 1]\n"
     ]
    }
   ],
   "source": [
    "predict = kmeans.fit_predict(X)\n",
    "print(\"Ket qua du doan: %s\"%predict)\n"
   ]
  },
  {
   "cell_type": "code",
   "execution_count": 5,
   "metadata": {},
   "outputs": [
    {
     "data": {
      "image/png": "[encoded data removed]",
      "text/plain": [
       "<Figure size 432x288 with 1 Axes>"
      ]
     },
     "metadata": {
      "needs_background": "light"
     },
     "output_type": "display_data"
    }
   ],
   "source": [
    "plt.scatter(X[:, 0], X[:, 1], c=predict)\n",
    "plt.ylabel(\"X (weight index)\")\n",
    "plt.xlabel(\"Y (pH)\")\n",
    "plt.title(\"Hinh anh phan cum\")\n",
    "plt.show()"
   ]
  },
  {
   "cell_type": "code",
   "execution_count": 6,
   "metadata": {},
   "outputs": [],
   "source": [
    "import pandas as pd\n",
    "import matplotlib.pyplot as plt\n",
    "from sklearn.cluster import KMeans"
   ]
  },
  {
   "cell_type": "code",
   "execution_count": 7,
   "metadata": {},
   "outputs": [],
   "source": [
    "data = pd.read_csv('../Data/Diem.csv')"
   ]
  },
  {
   "cell_type": "code",
   "execution_count": 8,
   "metadata": {},
   "outputs": [],
   "source": [
    "X= data.loc[:,:].values\n",
    "kmeans = KMeans(n_clusters=3, random_state=0).fit(data)"
   ]
  },
  {
   "cell_type": "code",
   "execution_count": 9,
   "metadata": {},
   "outputs": [
    {
     "name": "stdout",
     "output_type": "stream",
     "text": [
      "Tam của nhom 1 là:[6.75 4.75 9.  ]\n",
      "Tam của nhom 2 là:[6.66666667 9.         6.66666667]\n",
      "Tam của nhom 3 là:[5.14285714 4.         4.        ]\n"
     ]
    }
   ],
   "source": [
    "print(\"Tam của nhom 1 là:%s\"%kmeans.cluster_centers_[0])\n",
    "print(\"Tam của nhom 2 là:%s\"%kmeans.cluster_centers_[1])\n",
    "print(\"Tam của nhom 3 là:%s\"%kmeans.cluster_centers_[2])"
   ]
  },
  {
   "cell_type": "code",
   "execution_count": 10,
   "metadata": {},
   "outputs": [
    {
     "name": "stdout",
     "output_type": "stream",
     "text": [
      "Ket qua du doan: [0 1 0 2 2 0 1 2 2 1 2 1 1 1 0 1 2 1 1 2]\n"
     ]
    }
   ],
   "source": [
    "predict = kmeans.fit_predict(X)\n",
    "print(\"Ket qua du doan: %s\"%predict)"
   ]
  },
  {
   "cell_type": "code",
   "execution_count": 11,
   "metadata": {},
   "outputs": [],
   "source": [
    "data = pd.read_csv('../Data/bank-data.csv')\n",
    "\n",
    "X= data.loc[:,['sex']].values\n",
    "sex= {'FEMALE':0,'MALE':1}\n",
    "data['sex'] = data['sex'].map(sex)\n",
    "region ={'INNER_CITY':0,'TOWN':1,'RURAL':2, 'SUBURBAN':3}\n",
    "data['region'] = data['region'].map(region)\n",
    "b ={'YES':1, 'NO':0}\n",
    "data['car'] =data['car'].map(b)\n",
    "data['save_act']=data['save_act'].map(b)\n",
    "data['married']=data['married'].map(b)\n",
    "data['current_act']=data['current_act'].map(b)\n",
    "data['mortgage']=data['mortgage'].map(b)\n",
    "data['pep']=data['pep'].map(b)\n",
    "X= data.loc[:,['age','sex','region','income','married','children','car','save_act','current_act','mortgage','pep']].values\n"
   ]
  },
  {
   "cell_type": "code",
   "execution_count": 12,
   "metadata": {},
   "outputs": [
    {
     "name": "stdout",
     "output_type": "stream",
     "text": [
      "Tam cum 1 la: [2.85541401e+01 5.28662420e-01 8.02547771e-01 1.33122613e+04\n",
      " 6.36942675e-01 9.80891720e-01 4.45859873e-01 6.30573248e-01\n",
      " 7.77070064e-01 3.12101911e-01 3.12101911e-01]\n",
      "Tam cum 2 la: [5.30108696e+01 5.54347826e-01 9.02173913e-01 4.02533370e+04\n",
      " 6.63043478e-01 1.02173913e+00 5.32608696e-01 8.26086957e-01\n",
      " 7.93478261e-01 3.15217391e-01 4.67391304e-01]\n",
      "Tam cum 3 la: [4.54960630e+01 4.25196850e-01 9.37007874e-01 3.00625843e+04\n",
      " 6.14173228e-01 1.01574803e+00 5.66929134e-01 6.61417323e-01\n",
      " 7.55905512e-01 3.77952756e-01 5.03937008e-01]\n",
      "Tam cum 4 la: [6.17968750e+01 4.84375000e-01 1.12500000e+00 5.31415531e+04\n",
      " 6.56250000e-01 1.17187500e+00 5.31250000e-01 1.00000000e+00\n",
      " 7.96875000e-01 3.28125000e-01 7.34375000e-01]\n",
      "Tam cum 5 la: [3.96500000e+01 5.06250000e-01 9.43750000e-01 2.18879944e+04\n",
      " 7.18750000e-01 9.68750000e-01 4.43750000e-01 5.68750000e-01\n",
      " 7.06250000e-01 3.87500000e-01 4.43750000e-01]\n"
     ]
    }
   ],
   "source": [
    "kmeans = KMeans(n_clusters=5, random_state=0).fit(X)\n",
    "for i in range(5):\n",
    "    print(\"Tam cum %s la: %s\"%(i+1,kmeans.cluster_centers_[i]))"
   ]
  }
 ],
 "metadata": {
  "kernelspec": {
   "display_name": "Python 3",
   "language": "python",
   "name": "python3"
  },
  "language_info": {
   "codemirror_mode": {
    "name": "ipython",
    "version": 3
   },
   "file_extension": ".py",
   "mimetype": "text/x-python",
   "name": "python",
   "nbconvert_exporter": "python",
   "pygments_lexer": "ipython3",
   "version": "3.8.5"
  }
 },
 "nbformat": 4,
 "nbformat_minor": 4
}
