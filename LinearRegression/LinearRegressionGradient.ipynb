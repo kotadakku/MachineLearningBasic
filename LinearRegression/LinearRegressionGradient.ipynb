{
 "cells": [
  {
   "cell_type": "code",
   "execution_count": 1,
   "metadata": {},
   "outputs": [],
   "source": [
    "import numpy as np\n",
    "import matplotlib.pyplot as plt\n",
    "import pandas as pd"
   ]
  },
  {
   "cell_type": "code",
   "execution_count": 2,
   "metadata": {},
   "outputs": [],
   "source": [
    "data = pd.read_csv('../Data/data_linear.csv').values\n",
    "N = data.shape[0]\n",
    "x = data[:, 0].reshape(-1, 1)\n",
    "y = data[:, 1].reshape(-1, 1)"
   ]
  },
  {
   "cell_type": "code",
   "execution_count": 3,
   "metadata": {},
   "outputs": [
    {
     "name": "stdout",
     "output_type": "stream",
     "text": [
      "[[ 30.      32.4138  34.8276  37.2414  39.6552  42.069   44.4828  46.8966\n",
      "   49.3103  51.7241  54.1379  56.5517  58.9655  61.3793  63.7931  66.2069\n",
      "   68.6207  71.0345  73.4483  75.8621  78.2759  80.6897  83.1034  85.5172\n",
      "   87.931   90.3448  92.7586  95.1724  97.5862 100.    ]]\n"
     ]
    }
   ],
   "source": [
    "print (x.T)"
   ]
  },
  {
   "cell_type": "code",
   "execution_count": 4,
   "metadata": {},
   "outputs": [
    {
     "name": "stdout",
     "output_type": "stream",
     "text": [
      "[[ 448.524  509.248  535.104  551.432  623.418  625.992  655.248  701.377\n",
      "   748.918  757.881  831.004  855.409  866.707  902.545  952.261  995.531\n",
      "  1069.78  1074.42  1103.88  1138.69  1153.13  1240.27  1251.9   1287.97\n",
      "  1320.47  1374.92  1410.16  1469.69  1478.54  1515.28 ]]\n"
     ]
    }
   ],
   "source": [
    "print(y.T)"
   ]
  },
  {
   "cell_type": "code",
   "execution_count": 5,
   "metadata": {},
   "outputs": [
    {
     "data": {
      "text/plain": [
       "Text(0, 0.5, 'giá')"
      ]
     },
     "execution_count": 5,
     "metadata": {},
     "output_type": "execute_result"
    },
    {
     "data": {
      "image/png": "[encoded data removed]",
      "text/plain": [
       "<Figure size 432x288 with 1 Axes>"
      ]
     },
     "metadata": {
      "needs_background": "light"
     },
     "output_type": "display_data"
    }
   ],
   "source": [
    "plt.scatter(x, y)\n",
    "plt.xlabel('mét vuông')\n",
    "plt.ylabel('giá')"
   ]
  },
  {
   "cell_type": "code",
   "execution_count": 6,
   "metadata": {},
   "outputs": [],
   "source": [
    "x = np.hstack((np.ones((N, 1)), x))"
   ]
  },
  {
   "cell_type": "code",
   "execution_count": 7,
   "metadata": {},
   "outputs": [
    {
     "name": "stdout",
     "output_type": "stream",
     "text": [
      "[[  1.      30.    ]\n",
      " [  1.      32.4138]\n",
      " [  1.      34.8276]\n",
      " [  1.      37.2414]\n",
      " [  1.      39.6552]\n",
      " [  1.      42.069 ]\n",
      " [  1.      44.4828]\n",
      " [  1.      46.8966]\n",
      " [  1.      49.3103]\n",
      " [  1.      51.7241]\n",
      " [  1.      54.1379]\n",
      " [  1.      56.5517]\n",
      " [  1.      58.9655]\n",
      " [  1.      61.3793]\n",
      " [  1.      63.7931]\n",
      " [  1.      66.2069]\n",
      " [  1.      68.6207]\n",
      " [  1.      71.0345]\n",
      " [  1.      73.4483]\n",
      " [  1.      75.8621]\n",
      " [  1.      78.2759]\n",
      " [  1.      80.6897]\n",
      " [  1.      83.1034]\n",
      " [  1.      85.5172]\n",
      " [  1.      87.931 ]\n",
      " [  1.      90.3448]\n",
      " [  1.      92.7586]\n",
      " [  1.      95.1724]\n",
      " [  1.      97.5862]\n",
      " [  1.     100.    ]]\n"
     ]
    }
   ],
   "source": [
    "print(x)"
   ]
  },
  {
   "cell_type": "code",
   "execution_count": 8,
   "metadata": {},
   "outputs": [
    {
     "name": "stdout",
     "output_type": "stream",
     "text": [
      "[[0.]\n",
      " [1.]]\n"
     ]
    }
   ],
   "source": [
    "numOfIteration = 100\n",
    "cost = np.zeros((numOfIteration,1))\n",
    "learning_rate = 0.00001\n",
    "w = np.array([0.,1.]).reshape(-1,1)\n",
    "print(w)"
   ]
  },
  {
   "cell_type": "code",
   "execution_count": 9,
   "metadata": {},
   "outputs": [],
   "source": [
    "for i in range(1, numOfIteration):\n",
    "    r = np.dot(x, w) - y\n",
    "    cost[i] = 0.5*np.sum(r*r)\n",
    "    w[0] -= learning_rate*np.sum(r)\n",
    "    # correct the shape dimension\n",
    "    w[1] -= learning_rate*np.sum(np.multiply(r, x[:,1].reshape(-1,1)))\n",
    "    "
   ]
  },
  {
   "cell_type": "code",
   "execution_count": 10,
   "metadata": {},
   "outputs": [
    {
     "data": {
      "image/png": "[encoded data removed]",
      "text/plain": [
       "<Figure size 432x288 with 1 Axes>"
      ]
     },
     "metadata": {
      "needs_background": "light"
     },
     "output_type": "display_data"
    }
   ],
   "source": [
    "predict = np.dot(x, w)\n",
    "plt.scatter(x[:,1], y)\n",
    "plt.xlabel('mét vuông')\n",
    "plt.ylabel('giá')\n",
    "plt.plot((x[0][1], x[N-1][1]),(predict[0], predict[N-1]), 'r')\n",
    "plt.show()"
   ]
  }
 ],
 "metadata": {
  "kernelspec": {
   "display_name": "Python 3",
   "language": "python",
   "name": "python3"
  },
  "language_info": {
   "codemirror_mode": {
    "name": "ipython",
    "version": 3
   },
   "file_extension": ".py",
   "mimetype": "text/x-python",
   "name": "python",
   "nbconvert_exporter": "python",
   "pygments_lexer": "ipython3",
   "version": "3.8.5"
  }
 },
 "nbformat": 4,
 "nbformat_minor": 4
}
